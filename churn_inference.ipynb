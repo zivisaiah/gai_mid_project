{
 "cells": [
  {
   "cell_type": "markdown",
   "id": "149a9c98-830f-4597-b76b-0306a59819a2",
   "metadata": {},
   "source": [
    "<h1> Load data from MongoDB </h1>"
   ]
  },
  {
   "cell_type": "code",
   "execution_count": null,
   "id": "85e3f8ef-5d8f-44e2-a2ed-8fb27c4227b8",
   "metadata": {},
   "outputs": [],
   "source": [
    "from pymongo import MongoClient\n",
    "import pandas as pd"
   ]
  },
  {
   "cell_type": "code",
   "execution_count": null,
   "id": "09dad190-6055-4e48-a117-bdbb92508ac5",
   "metadata": {},
   "outputs": [],
   "source": [
    "client = MongoClient('mongodb://localhost:27017/')\n",
    "client.list_database_names()"
   ]
  },
  {
   "cell_type": "code",
   "execution_count": null,
   "id": "87be8362-b524-4c66-a525-0d0202866afa",
   "metadata": {},
   "outputs": [],
   "source": [
    "db = client['Tech']\n",
    "db.list_collection_names()"
   ]
  },
  {
   "cell_type": "code",
   "execution_count": null,
   "id": "3ec481f9-2572-4862-8809-91c0b90a8157",
   "metadata": {},
   "outputs": [],
   "source": [
    "customers = pd.DataFrame(db.Customers.find({\"Contract\": {\"$exists\": True},\"customerID\": {\"$exists\": True},\"Dependents\": {\"$exists\": True},\"gender\": {\"$exists\": True},\"MonthlyCharges\": {\"$exists\": True},\"PaperlessBilling\": {\"$exists\": True} ,\"Partner\": {\"$exists\": True},\"SeniorCitizen\": {\"$exists\": True},\"Services\": {\"$exists\": True},\"tenure\": {\"$exists\": True},\"TotalCharges\": {\"$exists\": True} },{\"_id\":0}))\n",
    "print(customers.shape)\n",
    "customers.head(5)"
   ]
  },
  {
   "cell_type": "code",
   "execution_count": null,
   "id": "b7ae80eb-bd61-45fe-94bd-8981cc0519eb",
   "metadata": {},
   "outputs": [],
   "source": [
    "from pandas import json_normalize\n",
    "df2 = json_normalize(customers['Services'])\n",
    "customers = customers.join(df2)\n",
    "customers = customers.drop('Services', axis=1)\n",
    "print(customers.shape)\n",
    "customers.head(5)"
   ]
  },
  {
   "cell_type": "code",
   "execution_count": null,
   "id": "f1bcf678-2b8c-4b30-8a9d-4b0b0cddbc66",
   "metadata": {},
   "outputs": [],
   "source": [
    "customers['PaperlessBilling'] = customers['PaperlessBilling'].map(lambda x: x[0])\n",
    "customers\n",
    "original_customers = customers\n",
    "print(customers.shape)"
   ]
  },
  {
   "cell_type": "code",
   "execution_count": null,
   "id": "e7323ce1-58c3-451e-8e56-cfac349890fd",
   "metadata": {},
   "outputs": [],
   "source": [
    "def create_dummies(data_frame, column_name):\n",
    "    return pd.get_dummies(data_frame, columns=[column_name], prefix=column_name, drop_first=True,dtype=int)\n",
    "\n",
    "def prep(df_features):\n",
    "    # basic preperations of the data\n",
    "    df_features = df_features.rename(columns=str.lower)\n",
    "    \n",
    "    # הפכיה לערכים מספריים על מנת להציג את הנתונים\n",
    "    df_features['totalcharges'] = df_features['totalcharges'].str.strip() \n",
    "    df_features['totalcharges'] = pd.to_numeric(df_features['totalcharges'], errors='coerce')\n",
    "   \n",
    "    # Replace the n/a with an estimation of the total charge\n",
    "    df_features['totalcharges'] = df_features['totalcharges'].fillna((df_features['monthlycharges']*df_features['tenure']))  \n",
    "\n",
    "    df_features['charge_diff'] = df_features['totalcharges'] - (df_features['monthlycharges']*df_features['tenure'])\n",
    "    # if the number is negative we assume the price raised during the tenure\n",
    "    # if the number is 0 there was no change in price during the tenure\n",
    "    # if the number is positive we assume the price dropped during the tenure\n",
    "    df_features['price_remain'] = (df_features['charge_diff'] == 0).astype(int)\n",
    "    df_features['price_raised'] = (df_features['charge_diff'] < 0).astype(int)\n",
    "    df_features['price_dropped'] = (df_features['charge_diff'] > 0).astype(int)\n",
    "    \n",
    "    df_features.loc[df_features.gender == 'Male','gender']=0\n",
    "    df_features.loc[df_features.gender == 'Female','gender']=1\n",
    "    df_features['gender'] = df_features['gender'].astype(int)\n",
    "    \n",
    "    df_features.loc[df_features.partner == 'No','partner']=0\n",
    "    df_features.loc[df_features.partner == 'Yes','partner']=1\n",
    "    df_features['partner'] = df_features['partner'].astype(int)\n",
    "    \n",
    "    df_features.loc[df_features.dependents == 'No','dependents']=0\n",
    "    df_features.loc[df_features.dependents == 'Yes','dependents']=1\n",
    "    df_features['dependents'] = df_features['dependents'].astype(int)\n",
    "    \n",
    "    df_features.loc[df_features.phoneservice == 'No','phoneservice'] =0\n",
    "    df_features.loc[df_features.phoneservice == 'Yes','phoneservice'] =1\n",
    "    df_features['phoneservice'] = df_features['phoneservice'].astype(int)\n",
    "    \n",
    "    df_features.loc[df_features.paperlessbilling == 'No','paperlessbilling'] = 0\n",
    "    df_features.loc[df_features.paperlessbilling == 'Yes','paperlessbilling'] =1\n",
    "    df_features['paperlessbilling'] = df_features['paperlessbilling'].astype(int)\n",
    "    \n",
    "    df_features = create_dummies(df_features, 'contract')\n",
    "    df_features = create_dummies(df_features, 'multiplelines')\n",
    "    df_features = create_dummies(df_features, 'internetservice')\n",
    "    df_features = create_dummies(df_features, 'onlinesecurity')\n",
    "    df_features = create_dummies(df_features, 'onlinebackup')\n",
    "    df_features = create_dummies(df_features, 'deviceprotection')\n",
    "    df_features = create_dummies(df_features, 'techsupport')\n",
    "    df_features = create_dummies(df_features, 'streamingtv')\n",
    "    df_features = create_dummies(df_features, 'streamingmovies')\n",
    "    df_features = create_dummies(df_features, 'paymentmethod')\n",
    "\n",
    "    df_features['combined'] = df_features['internetservice_Fiber optic'] | df_features['internetservice_No'] | \\\n",
    "           df_features['onlinesecurity_No internet service'] | df_features['onlinesecurity_Yes'] | \\\n",
    "           df_features['onlinebackup_No internet service'] | df_features['onlinebackup_Yes'] | \\\n",
    "           df_features['deviceprotection_No internet service'] | df_features['deviceprotection_Yes'] | \\\n",
    "           df_features['techsupport_No internet service'] | df_features['techsupport_Yes'] | \\\n",
    "           df_features['streamingtv_No internet service'] | df_features['streamingtv_Yes'] | \\\n",
    "           df_features['streamingmovies_No internet service'] | df_features['streamingmovies_Yes']\n",
    "    \n",
    "    sum_all_combined = df_features['internetservice_Fiber optic'] + df_features['internetservice_No'] + \\\n",
    "           df_features['onlinesecurity_No internet service'] + df_features['onlinesecurity_Yes'] + \\\n",
    "           df_features['onlinebackup_No internet service'] + df_features['onlinebackup_Yes'] + \\\n",
    "           df_features['deviceprotection_No internet service'] + df_features['deviceprotection_Yes'] + \\\n",
    "           df_features['techsupport_No internet service'] + df_features['techsupport_Yes'] + \\\n",
    "           df_features['streamingtv_No internet service'] + df_features['streamingtv_Yes'] + \\\n",
    "           df_features['streamingmovies_No internet service'] + df_features['streamingmovies_Yes']\n",
    "    df_features['combined_majority'] = (sum_all_combined > 6).astype(int)\n",
    "    \n",
    "    df_features.drop(['internetservice_Fiber optic', 'internetservice_No','onlinesecurity_No internet service','onlinesecurity_Yes'], axis=1, inplace=True)\n",
    "    df_features.drop(['onlinebackup_No internet service','onlinebackup_Yes','deviceprotection_No internet service', 'deviceprotection_Yes'], axis=1, inplace=True)\n",
    "    df_features.drop(['techsupport_No internet service', 'techsupport_Yes','streamingtv_No internet service', 'streamingtv_Yes'], axis=1, inplace=True)\n",
    "    df_features.drop(['streamingmovies_No internet service', 'streamingmovies_Yes'], axis=1, inplace=True)\n",
    "\n",
    "    X = df_features.drop(columns=['customerid'])\n",
    "    \n",
    "    # Let's convert all data to float because some modules warn against other types\n",
    "    X = X.astype(float)\n",
    "\n",
    "    X = X.reindex(sorted(X.columns), axis=1)\n",
    "\n",
    "    return X"
   ]
  },
  {
   "cell_type": "code",
   "execution_count": null,
   "id": "495ad693-3c24-42ef-9dbf-39eb56fc2901",
   "metadata": {},
   "outputs": [],
   "source": [
    "X = prep(customers)\n",
    "print(X.shape)"
   ]
  },
  {
   "cell_type": "code",
   "execution_count": null,
   "id": "942bfd20-2c7b-49cd-b4f9-9522dd8ce1b6",
   "metadata": {},
   "outputs": [],
   "source": [
    "import joblib\n",
    "\n",
    "# Load the pipeline using joblib\n",
    "filename = \"customer_final_pipeline.pkl\"\n",
    "pipeline = joblib.load(filename)\n",
    "\n",
    "print(f\"Pipeline loaded from {filename}\")"
   ]
  },
  {
   "cell_type": "code",
   "execution_count": null,
   "id": "85db9883-25f9-4e6c-b25d-aa439db8f084",
   "metadata": {},
   "outputs": [],
   "source": [
    "# Predictions\n",
    "y_pred = pipeline.predict(X)"
   ]
  },
  {
   "cell_type": "raw",
   "id": "cb38523b-f237-4262-be97-a3d54f7cb885",
   "metadata": {},
   "source": [
    "This is the CSV strcuture that needs to be saved out:\n",
    "=======================================================\n",
    " 0   customerID        7043 non-null   object \n",
    " 1   gender            7043 non-null   object \n",
    " 2   SeniorCitizen     7043 non-null   int64  \n",
    " 3   Partner           7043 non-null   object \n",
    " 4   Dependents        7043 non-null   object \n",
    " 5   tenure            7043 non-null   int64  \n",
    " 6   PhoneService      7043 non-null   object \n",
    " 7   MultipleLines     7043 non-null   object \n",
    " 8   InternetService   7043 non-null   object \n",
    " 9   OnlineSecurity    7043 non-null   object \n",
    " 10  OnlineBackup      7043 non-null   object \n",
    " 11  DeviceProtection  7043 non-null   object \n",
    " 12  TechSupport       7043 non-null   object \n",
    " 13  StreamingTV       7043 non-null   object \n",
    " 14  StreamingMovies   7043 non-null   object \n",
    " 15  Contract          7043 non-null   object \n",
    " 16  PaperlessBilling  7043 non-null   object \n",
    " 17  PaymentMethod     7043 non-null   object \n",
    " 18  MonthlyCharges    7043 non-null   float64\n",
    " 19  TotalCharges      7043 non-null   object \n",
    " 20  Churn             7043 non-null   object "
   ]
  },
  {
   "cell_type": "code",
   "execution_count": null,
   "id": "4f8d2f75-3c57-42e2-9080-7bd01f5db318",
   "metadata": {},
   "outputs": [],
   "source": [
    "df_cvs = pd.DataFrame()\n",
    "df_cvs['customerID'] = original_customers['customerID']\n",
    "df_cvs['gender'] = original_customers['gender']\n",
    "df_cvs['SeniorCitizen'] = original_customers['SeniorCitizen']\n",
    "df_cvs['Partner'] = original_customers['Partner']\n",
    "df_cvs['Dependents'] = original_customers['Dependents']\n",
    "df_cvs['tenure'] = original_customers['tenure']\n",
    "df_cvs['PhoneService'] = original_customers['PhoneService']\n",
    "df_cvs['MultipleLines'] = original_customers['MultipleLines']\n",
    "df_cvs['InternetService'] = original_customers['InternetService']\n",
    "df_cvs['OnlineSecurity'] = original_customers['OnlineSecurity']\n",
    "df_cvs['OnlineBackup'] = original_customers['OnlineBackup']\n",
    "df_cvs['DeviceProtection'] = original_customers['DeviceProtection']\n",
    "df_cvs['TechSupport'] = original_customers['TechSupport']\n",
    "df_cvs['StreamingTV'] = original_customers['StreamingTV']\n",
    "df_cvs['StreamingMovies'] = original_customers['StreamingMovies']\n",
    "df_cvs['Contract'] = original_customers['Contract']\n",
    "df_cvs['PaperlessBilling'] = original_customers['PaperlessBilling']\n",
    "df_cvs['PaymentMethod'] = original_customers['PaymentMethod']\n",
    "df_cvs['MonthlyCharges'] = original_customers['MonthlyCharges']\n",
    "df_cvs['TotalCharges'] = original_customers['TotalCharges']\n",
    "df_cvs['Churn'] = y_pred.astype(object)"
   ]
  },
  {
   "cell_type": "code",
   "execution_count": null,
   "id": "d662612f-ee09-484c-b680-f3b7c9929d21",
   "metadata": {},
   "outputs": [],
   "source": [
    "df_cvs.info()"
   ]
  },
  {
   "cell_type": "code",
   "execution_count": null,
   "id": "432d9669-0f3b-43f6-a1a0-1d5167019a69",
   "metadata": {},
   "outputs": [],
   "source": [
    "df_cvs.to_csv('inferred_churn.csv', index=False)"
   ]
  }
 ],
 "metadata": {
  "kernelspec": {
   "display_name": "Python 3 (ipykernel)",
   "language": "python",
   "name": "python3"
  },
  "language_info": {
   "codemirror_mode": {
    "name": "ipython",
    "version": 3
   },
   "file_extension": ".py",
   "mimetype": "text/x-python",
   "name": "python",
   "nbconvert_exporter": "python",
   "pygments_lexer": "ipython3",
   "version": "3.12.7"
  }
 },
 "nbformat": 4,
 "nbformat_minor": 5
}
