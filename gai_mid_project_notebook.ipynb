{
 "cells": [
  {
   "cell_type": "code",
   "execution_count": null,
   "id": "0",
   "metadata": {},
   "outputs": [],
   "source": [
    "#!pip install scikit-learn\n",
    "#!pip install graphviz"
   ]
  },
  {
   "cell_type": "code",
   "execution_count": null,
   "id": "1",
   "metadata": {},
   "outputs": [],
   "source": [
    "import numpy as np\n",
    "import pandas as pd\n",
    "import matplotlib.pyplot as plt\n",
    "import seaborn as sns\n",
    "import scipy\n",
    "from scipy.stats import wilcoxon\n",
    "from scipy import stats\n",
    "from sklearn.model_selection import train_test_split"
   ]
  },
  {
   "cell_type": "markdown",
   "id": "2",
   "metadata": {},
   "source": [
    "<h1>EDA</h1>"
   ]
  },
  {
   "cell_type": "code",
   "execution_count": null,
   "id": "3",
   "metadata": {},
   "outputs": [],
   "source": [
    "df=pd.read_csv('churn.csv')\n",
    "df = df.rename(columns=str.lower)\n",
    "\n",
    "original_df = df\n",
    "df.info()"
   ]
  },
  {
   "cell_type": "code",
   "execution_count": null,
   "id": "4",
   "metadata": {},
   "outputs": [],
   "source": [
    "print('Number of rows:',df.shape[0]) \n",
    "print('Number of columns:',df.shape[1]) "
   ]
  },
  {
   "cell_type": "code",
   "execution_count": null,
   "id": "5",
   "metadata": {},
   "outputs": [],
   "source": [
    "df.isnull().sum()"
   ]
  },
  {
   "cell_type": "code",
   "execution_count": null,
   "id": "6",
   "metadata": {},
   "outputs": [],
   "source": [
    "print(f\"The amount of duplicated numbers are {df.duplicated().sum()}\")"
   ]
  },
  {
   "cell_type": "code",
   "execution_count": null,
   "id": "7",
   "metadata": {},
   "outputs": [],
   "source": [
    "df.head(20)"
   ]
  },
  {
   "cell_type": "code",
   "execution_count": null,
   "id": "8",
   "metadata": {},
   "outputs": [],
   "source": [
    "# הפכיה לערכים מספריים על מנת להציג את הנתונים\n",
    "df['totalcharges'] = df['totalcharges'].str.strip() \n",
    "df['totalcharges'] = pd.to_numeric(df['totalcharges'], errors='coerce')\n",
    "df.isnull().sum()\n"
   ]
  },
  {
   "cell_type": "code",
   "execution_count": null,
   "id": "9",
   "metadata": {},
   "outputs": [],
   "source": [
    "# הצגת השורות הבעייתיות\n",
    "problem_rows = df[df['totalcharges'].isna()]\n",
    "\n",
    "problem_rows = problem_rows[['customerid', 'totalcharges']]\n",
    "\n",
    "print(problem_rows['customerid'].count(),problem_rows)"
   ]
  },
  {
   "cell_type": "code",
   "execution_count": null,
   "id": "10",
   "metadata": {},
   "outputs": [],
   "source": [
    "df = df.dropna(subset=['totalcharges'])"
   ]
  },
  {
   "cell_type": "code",
   "execution_count": null,
   "id": "11",
   "metadata": {},
   "outputs": [],
   "source": [
    "df.isnull().sum()"
   ]
  },
  {
   "cell_type": "code",
   "execution_count": null,
   "id": "12",
   "metadata": {},
   "outputs": [],
   "source": [
    "df['churn'].value_counts().plot(kind='pie', autopct='%1.1f%%', colors=['skyblue', 'lightcoral'])\n",
    "plt.title('churn distribution')\n",
    "plt.ylabel('') \n",
    "plt.show()\n"
   ]
  },
  {
   "cell_type": "code",
   "execution_count": null,
   "id": "13",
   "metadata": {},
   "outputs": [],
   "source": [
    "#3. התפלגות משתנה עזיבה  (לפני חלוקה):\n",
    "sns.countplot(x='churn', data=df, palette='Set2')\n",
    "plt.title('churn Distribution')\n",
    "plt.grid(axis='y', linestyle='--')\n",
    "plt.show()"
   ]
  },
  {
   "cell_type": "code",
   "execution_count": null,
   "id": "14",
   "metadata": {},
   "outputs": [],
   "source": [
    "df[['tenure']].describe()"
   ]
  },
  {
   "cell_type": "code",
   "execution_count": null,
   "id": "15",
   "metadata": {},
   "outputs": [],
   "source": [
    "\n",
    "#df[df['churn']==0]['tenure'].describe()"
   ]
  },
  {
   "cell_type": "code",
   "execution_count": null,
   "id": "16",
   "metadata": {},
   "outputs": [],
   "source": [
    "#פירוט 1\n",
    "fig, axes = plt.subplots(1, 2, figsize=(12, 5))\n",
    "\n",
    "# גרף 1 התפלגות totalcharges\n",
    "axes[0].hist(df['totalcharges'], bins=20, color='skyblue', edgecolor='black')\n",
    "axes[0].set_title('Distribution of totalcharges')\n",
    "axes[0].set_xlabel('totalcharges')\n",
    "axes[0].set_ylabel('Frequency')\n",
    "\n",
    "# גרף 2 התפלגות Tenure\n",
    "axes[1].hist(df['tenure'], bins=20, color='skyblue', edgecolor='black')\n",
    "axes[1].set_title('Distribution of Tenure')\n",
    "axes[1].set_xlabel('Tenure')\n",
    "axes[1].set_ylabel('Frequency')\n",
    "\n",
    "plt.show()"
   ]
  },
  {
   "cell_type": "code",
   "execution_count": null,
   "id": "17",
   "metadata": {},
   "outputs": [],
   "source": [
    "fig, axes = plt.subplots(4, 2, figsize=(12, 12))\n",
    "\n",
    "# פילוח לפי מגדר\n",
    "gender_counts = df['gender'].value_counts()\n",
    "axes[0, 0].pie(gender_counts, labels=[\"Male\", \"Female\"], autopct='%1.1f%%', colors=['skyblue', 'lightcoral'])\n",
    "axes[0, 0].set_title('Segmentation by gender')\n",
    "\n",
    "def get_churned_percentage(group_name, group_value):\n",
    "    churned_group_a_count = df[(df[group_name]==group_value) & (df['churn']=='Yes')].shape[0]\n",
    "    total_group_a_count = df[df[group_name]==group_value].shape[0]\n",
    "    return (churned_group_a_count/total_group_a_count)\n",
    "\n",
    "group_a_percentage = get_churned_percentage('gender', 'Male')\n",
    "group_b_percentage = get_churned_percentage('gender', 'Female')\n",
    "axes[0, 1].pie([group_a_percentage,group_b_percentage], labels=[\"churned_male\", \"churned_female\"], autopct='%1.1f%%', colors=['skyblue', 'lightcoral'])\n",
    "axes[0, 1].set_title('Segmentation by gender')\n",
    "\n",
    "# פילוח לפי בן/בת זוג\n",
    "partner_counts = df['partner'].value_counts()\n",
    "axes[1, 0].pie(partner_counts, labels=['Without a spouse', 'With a spouse'], autopct='%1.1f%%', colors=['lightgreen', 'lightpink'])\n",
    "axes[1, 0].set_title('Segmentation by spouse')\n",
    "\n",
    "group_a_percentage = get_churned_percentage('partner', 'Yes')\n",
    "group_b_percentage = get_churned_percentage('partner', 'No')\n",
    "axes[1, 1].pie([group_a_percentage,group_b_percentage], labels=[\"churned_with_spouse\", \"churned_without_spouse\"], autopct='%1.1f%%', colors=['lightgreen', 'lightpink'])\n",
    "axes[1, 1].set_title('Segmentation by partner')\n",
    "\n",
    "# פילוח לפי תלויים\n",
    "dependents_counts = df['dependents'].value_counts()\n",
    "axes[2, 0].pie(dependents_counts, labels=['Without dependents', 'With dependents'], autopct='%1.1f%%', colors=['lightgrey', 'lightyellow'])\n",
    "axes[2, 0].set_title('Segmentation by dependents')\n",
    "\n",
    "group_a_percentage = get_churned_percentage('dependents', 'Yes')\n",
    "group_b_percentage = get_churned_percentage('dependents', 'No')\n",
    "axes[2, 1].pie([group_a_percentage,group_b_percentage], labels=[\"churned_with_dependents\", \"churned_without_dependents\"], autopct='%1.1f%%', colors=['lightgrey', 'lightyellow'])\n",
    "axes[2, 1].set_title('Segmentation by dependents')\n",
    "\n",
    "# # פילוח לפי עזיבה\n",
    "# churn_counts = df['churn'].value_counts()\n",
    "# axes[1, 1].pie(churn_counts, labels=['Didn\\'t leave', 'Leave'], autopct='%1.1f%%', colors=['lightblue', 'salmon'])\n",
    "# axes[1, 1].set_title('Segmentation by departure')\n",
    "\n",
    "\n",
    "plt.show()\n"
   ]
  },
  {
   "cell_type": "code",
   "execution_count": null,
   "id": "18",
   "metadata": {},
   "outputs": [],
   "source": [
    "fig, axes = plt.subplots(1, 2, figsize=(12, 5))\n",
    "\n",
    "# גרף 1 Boxplot ל-totalcharges\n",
    "df.boxplot(column='totalcharges', ax=axes[0])\n",
    "axes[0].set_title('Boxplot of Total Charges')\n",
    "axes[0].set_ylabel('Total Charges')\n",
    "\n",
    "# גרף 2 Boxplot ל-Tenure\n",
    "df.boxplot(column='tenure', ax=axes[1])\n",
    "axes[1].set_title('Boxplot of Tenure')\n",
    "axes[1].set_ylabel('Tenure')\n",
    "\n",
    "plt.show()"
   ]
  },
  {
   "cell_type": "code",
   "execution_count": null,
   "id": "19",
   "metadata": {},
   "outputs": [],
   "source": [
    "#  גרף התפלגות עמודה מספרית (monthlycharges)\n",
    "plt.figure(figsize=(12, 6))\n",
    "sns.histplot(df['monthlycharges'], bins=30, kde=True)\n",
    "plt.title('Monthly distribution')\n",
    "plt.xlabel('Monthly Charges')\n",
    "plt.grid(axis='y', linestyle='--')\n",
    "plt.show()\n",
    "\n",
    "#  גרף פילוח לפי contract ו-churn\n",
    "plt.figure(figsize=(12, 6))\n",
    "sns.countplot(x='contract',  data=df) \n",
    "plt.title('contract Type vs. churn')\n",
    "plt.grid(axis='y', linestyle='--')\n",
    "plt.show()"
   ]
  },
  {
   "cell_type": "markdown",
   "id": "20",
   "metadata": {},
   "source": [
    "<h1>Data Engineering / Prep </h1>"
   ]
  },
  {
   "cell_type": "code",
   "execution_count": null,
   "id": "21",
   "metadata": {},
   "outputs": [],
   "source": [
    "def create_dummies(data_frame, column_name):\n",
    "    return pd.get_dummies(data_frame, columns=[column_name], prefix=column_name, drop_first=True,dtype=int)"
   ]
  },
  {
   "cell_type": "code",
   "execution_count": null,
   "id": "22",
   "metadata": {},
   "outputs": [],
   "source": [
    "df.loc[df.churn == 'No','churn'] =0\n",
    "df.loc[df.churn == 'Yes','churn'] =1\n",
    "df['churn'] = df['churn'].astype(int)\n",
    "\n",
    "df.loc[df.gender == 'Male','gender']=0\n",
    "df.loc[df.gender == 'Female','gender']=1\n",
    "df['gender'] = df['gender'].astype(int)\n",
    "\n",
    "df.loc[df.partner == 'No','partner']=0\n",
    "df.loc[df.partner == 'Yes','partner']=1\n",
    "df['partner'] = df['partner'].astype(int)\n",
    "\n",
    "df.loc[df.dependents == 'No','dependents']=0\n",
    "df.loc[df.dependents == 'Yes','dependents']=1\n",
    "df['dependents'] = df['dependents'].astype(int)\n",
    "\n",
    "df.loc[df.phoneservice == 'No','phoneservice'] =0\n",
    "df.loc[df.phoneservice == 'Yes','phoneservice'] =1\n",
    "df['phoneservice'] = df['phoneservice'].astype(int)\n",
    "\n",
    "df.loc[df.paperlessbilling == 'No','paperlessbilling'] = 0\n",
    "df.loc[df.paperlessbilling == 'Yes','paperlessbilling'] =1\n",
    "df['paperlessbilling'] = df['paperlessbilling'].astype(int)\n",
    "\n",
    "df = create_dummies(df, 'contract')\n",
    "df = create_dummies(df, 'multiplelines')\n",
    "df = create_dummies(df, 'internetservice')\n",
    "df = create_dummies(df, 'onlinesecurity')\n",
    "df = create_dummies(df, 'onlinebackup')\n",
    "df = create_dummies(df, 'deviceprotection')\n",
    "df = create_dummies(df, 'techsupport')\n",
    "df = create_dummies(df, 'streamingtv')\n",
    "df = create_dummies(df, 'streamingmovies')\n",
    "df = create_dummies(df, 'paymentmethod')\n",
    "\n",
    "df = df.drop('customerid', axis=1)\n",
    "\n",
    "print(df.info())\n",
    "df.head(20)"
   ]
  },
  {
   "cell_type": "code",
   "execution_count": null,
   "id": "23",
   "metadata": {},
   "outputs": [],
   "source": [
    "df['combined'] = df['internetservice_Fiber optic'] | df['internetservice_No'] | \\\n",
    "       df['onlinesecurity_No internet service'] | df['onlinesecurity_Yes'] | \\\n",
    "       df['onlinebackup_No internet service'] | df['onlinebackup_Yes'] | \\\n",
    "       df['deviceprotection_No internet service'] | df['deviceprotection_Yes'] | \\\n",
    "       df['techsupport_No internet service'] | df['techsupport_Yes'] | \\\n",
    "       df['streamingtv_No internet service'] | df['streamingtv_Yes'] | \\\n",
    "       df['streamingmovies_No internet service'] | df['streamingmovies_Yes']\n",
    "\n",
    "df.drop(['internetservice_Fiber optic', 'internetservice_No','onlinesecurity_No internet service','onlinesecurity_Yes'], axis=1, inplace=True)\n",
    "df.drop(['onlinebackup_No internet service','onlinebackup_Yes','deviceprotection_No internet service', 'deviceprotection_Yes'], axis=1, inplace=True)\n",
    "df.drop(['techsupport_No internet service', 'techsupport_Yes','streamingtv_No internet service', 'streamingtv_Yes'], axis=1, inplace=True)\n",
    "df.drop(['streamingmovies_No internet service', 'streamingmovies_Yes'], axis=1, inplace=True)\n",
    "df"
   ]
  },
  {
   "cell_type": "code",
   "execution_count": null,
   "id": "24",
   "metadata": {},
   "outputs": [],
   "source": [
    "df.isnull().sum()"
   ]
  },
  {
   "cell_type": "code",
   "execution_count": null,
   "id": "25",
   "metadata": {},
   "outputs": [],
   "source": [
    "#פירוט 3\n",
    "\n",
    "# סט 1 חלוקה רחבה\n",
    "def categorize_tenure_set1(tenure):\n",
    "    if tenure <= 12:\n",
    "        return '0-12'\n",
    "    elif 13 <= tenure <= 36:\n",
    "        return '13-36'\n",
    "    elif 37 <= tenure <= 60:\n",
    "        return '37-60'\n",
    "    else:\n",
    "        return '60+'\n",
    "\n",
    "# סט 2 (6 חודשים)\n",
    "def categorize_tenure_set2(tenure):\n",
    "    if tenure <= 6:\n",
    "        return '0-6'\n",
    "    elif 7 <= tenure <= 12:\n",
    "        return '7-12'\n",
    "    elif 13 <= tenure <= 18:\n",
    "        return '13-18'\n",
    "    elif 19 <= tenure <= 24:\n",
    "        return '19-24'\n",
    "    elif 25 <= tenure <= 30:\n",
    "        return '25-30'\n",
    "    elif 31 <= tenure <= 36:\n",
    "        return '31-36'\n",
    "    elif 37 <= tenure <= 42:\n",
    "        return '37-42'\n",
    "    elif 43 <= tenure <= 48:\n",
    "        return '43-48'\n",
    "    elif 49 <= tenure <= 54:\n",
    "        return '49-54'\n",
    "    elif 55 <= tenure <= 60:\n",
    "        return '55-60'\n",
    "    else:\n",
    "        return '60+'\n",
    "\n",
    "# סט 3 (10 חודשים)\n",
    "def categorize_tenure_set3(tenure):\n",
    "    if tenure <= 10:\n",
    "        return '0-10'\n",
    "    elif 11 <= tenure <= 20:\n",
    "        return '11-20'\n",
    "    elif 21 <= tenure <= 30:\n",
    "        return '21-30'\n",
    "    elif 31 <= tenure <= 40:\n",
    "        return '31-40'\n",
    "    elif 41 <= tenure <= 50:\n",
    "        return '41-50'\n",
    "    elif 51 <= tenure <= 60:\n",
    "        return '51-60'\n",
    "    else:\n",
    "        return '60+'\n",
    "\n",
    "df['tenure_category_set1'] = df['tenure'].apply(categorize_tenure_set1)\n",
    "df['tenure_category_set2'] = df['tenure'].apply(categorize_tenure_set2)\n",
    "df['tenure_category_set3'] = df['tenure'].apply(categorize_tenure_set3)\n",
    "\n",
    "categories_set1 = ['0-12', '13-36', '37-60', '60+']\n",
    "categories_set2 = ['0-6', '7-12', '13-18', '19-24', '25-30', '31-36', '37-42', '43-48', '49-54', '55-60', '60+']\n",
    "categories_set3 = ['0-10', '11-20', '21-30', '31-40', '41-50', '51-60', '60+']"
   ]
  },
  {
   "cell_type": "code",
   "execution_count": null,
   "id": "26",
   "metadata": {},
   "outputs": [],
   "source": [
    "stats_set1 = df.groupby(['churn','tenure_category_set1'])['monthlycharges'].agg(['mean'])\n",
    "stats_set2 = df.groupby(['churn','tenure_category_set2'])['monthlycharges'].agg(['mean'])\n",
    "stats_set3 = df.groupby(['churn','tenure_category_set3'])['monthlycharges'].agg(['mean'])\n",
    "\n",
    "avg_std_set1 = stats_set1.groupby('churn')[['mean']].agg('mean')\n",
    "avg_std_set2 = stats_set2.groupby('churn')[['mean']].agg('mean')\n",
    "avg_std_set3 = stats_set3.groupby('churn')[['mean']].agg('mean')"
   ]
  },
  {
   "cell_type": "code",
   "execution_count": null,
   "id": "27",
   "metadata": {},
   "outputs": [],
   "source": [
    "print(stats_set1)\n",
    "print(avg_std_set1)\n",
    "print(stats_set2)\n",
    "print(avg_std_set2)\n",
    "print(stats_set3)\n",
    "print(avg_std_set3)"
   ]
  },
  {
   "cell_type": "code",
   "execution_count": null,
   "id": "28",
   "metadata": {},
   "outputs": [],
   "source": [
    "unstacked = stats_set1.unstack()\n",
    "unstacked.plot(kind='bar', figsize=(12, 6))\n",
    "\n",
    "#plt.plot(x='tenure_category_set1', hue='churn', data=stats_set1, palette='coolwarm')\n",
    "plt.title('churn segmentation by avg monthlycharges (Set 1)')\n",
    "plt.xlabel('tenure groups')\n",
    "plt.legend(title='churn')\n",
    "plt.grid(axis='y', linestyle='--')\n",
    "plt.tight_layout()\n",
    "plt.show()"
   ]
  },
  {
   "cell_type": "code",
   "execution_count": null,
   "id": "29",
   "metadata": {},
   "outputs": [],
   "source": [
    "unstacked = stats_set2.unstack()\n",
    "unstacked.plot(kind='bar', figsize=(12, 6))\n",
    "\n",
    "plt.title('churn segmentation by avg monthlycharges (Set 2)')\n",
    "plt.xlabel('tenure groups')\n",
    "plt.legend(title='churn')\n",
    "plt.grid(axis='y', linestyle='--')\n",
    "plt.tight_layout()\n",
    "plt.show()"
   ]
  },
  {
   "cell_type": "code",
   "execution_count": null,
   "id": "30",
   "metadata": {},
   "outputs": [],
   "source": [
    "unstacked = stats_set3.unstack()\n",
    "unstacked.plot(kind='bar', figsize=(12, 6))\n",
    "\n",
    "plt.title('churn segmentation by avg monthlycharges (Set 3)')\n",
    "plt.xlabel('tenure groups')\n",
    "plt.legend(title='churn')\n",
    "plt.grid(axis='y', linestyle='--')\n",
    "plt.tight_layout()\n",
    "plt.show()"
   ]
  },
  {
   "cell_type": "code",
   "execution_count": null,
   "id": "31",
   "metadata": {},
   "outputs": [],
   "source": [
    "data_set2 = df.groupby(['churn','tenure_category_set2'])['partner'].agg(['count'])\n",
    "unstacked = data_set2.unstack()\n",
    "unstacked.plot(kind='bar', figsize=(12, 6))\n",
    "plt.title('churn segmentation by amount of people in tenure group (Set 2)')\n",
    "plt.xlabel('tenure groups')\n",
    "plt.legend(title='tenure')\n",
    "plt.grid(axis='y', linestyle='--')\n",
    "plt.tight_layout()\n",
    "plt.show()"
   ]
  },
  {
   "cell_type": "code",
   "execution_count": null,
   "id": "32",
   "metadata": {},
   "outputs": [],
   "source": [
    "data_set1 = df.groupby(['churn','tenure_category_set1'])['partner'].agg(['count'])\n",
    "unstacked = data_set1.unstack()\n",
    "unstacked.plot(kind='bar', figsize=(12, 6))\n",
    "plt.title('churn segmentation by amount of people in tenure group (Set 1)')\n",
    "plt.xlabel('tenure groups')\n",
    "plt.legend(title='tenure')\n",
    "plt.grid(axis='y', linestyle='--')\n",
    "plt.tight_layout()\n",
    "plt.show()"
   ]
  },
  {
   "cell_type": "code",
   "execution_count": null,
   "id": "33",
   "metadata": {},
   "outputs": [],
   "source": [
    "data_set3 = df.groupby(['churn','tenure_category_set3'])['partner'].agg(['count'])\n",
    "unstacked = data_set3.unstack()\n",
    "unstacked.plot(kind='bar', figsize=(12, 6))\n",
    "plt.title('churn segmentation by amount of people in tenure group (Set 3)')\n",
    "plt.xlabel('tenure groups')\n",
    "plt.legend(title='tenure')\n",
    "plt.grid(axis='y', linestyle='--')\n",
    "plt.tight_layout()\n",
    "plt.show()"
   ]
  },
  {
   "cell_type": "code",
   "execution_count": null,
   "id": "34",
   "metadata": {},
   "outputs": [],
   "source": [
    "# חישוב קורלציות אחרי המרה\n",
    "corr_matrix = df.corr(numeric_only=True)\n",
    "\n",
    "# יצירת heatmap לכלל הנתונים\n",
    "plt.figure(figsize=(12, 8))\n",
    "sns.heatmap(corr_matrix, annot=True, cmap='coolwarm', fmt=\".2f\", linewidths=0.5)\n",
    "plt.title(\"Correlation Matrix Heatmap\")\n",
    "plt.show()\n",
    "#corr_matrix.index"
   ]
  },
  {
   "cell_type": "code",
   "execution_count": null,
   "id": "35",
   "metadata": {},
   "outputs": [],
   "source": []
  },
  {
   "cell_type": "code",
   "execution_count": null,
   "id": "36",
   "metadata": {},
   "outputs": [],
   "source": [
    "corr_totalcharges = corr_matrix[['totalcharges']].sort_values(by='totalcharges', ascending=False)\n",
    "\n",
    "\n",
    "plt.figure(figsize=(6, 8))\n",
    "sns.heatmap(corr_totalcharges, annot=True, cmap='coolwarm', fmt=\".2f\", linewidths=0.5)\n",
    "plt.title(\"Correlation with Total Charges\")\n",
    "plt.show()\n"
   ]
  },
  {
   "cell_type": "code",
   "execution_count": null,
   "id": "37",
   "metadata": {},
   "outputs": [],
   "source": [
    "plt.figure(figsize=(8, 5))\n",
    "sns.scatterplot(x=df['tenure'], y=df['totalcharges'], alpha=0.5)\n",
    "plt.title(\"Total Charges vs Tenure\")\n",
    "plt.xlabel(\"Tenure\")\n",
    "plt.ylabel(\"Total Charges\")\n",
    "plt.grid()\n",
    "plt.show()\n",
    "\n",
    "\n",
    "#     נחוץ??\n",
    "plt.figure(figsize=(8, 5))\n",
    "sns.scatterplot(x=df['monthlycharges'], y=df['totalcharges'], alpha=0.5)\n",
    "plt.title(\"Total Charges vs Monthly Charges\")\n",
    "plt.xlabel(\"Monthly Charges\")\n",
    "plt.ylabel(\"Total Charges\")\n",
    "plt.grid()\n",
    "plt.show()\n"
   ]
  },
  {
   "cell_type": "code",
   "execution_count": null,
   "id": "38",
   "metadata": {},
   "outputs": [],
   "source": [
    "#ML\n",
    "df = df.drop(columns=['tenure_category_set1'])\n",
    "df = df.drop(columns=['tenure_category_set2'])\n",
    "df = df.drop(columns=['tenure_category_set3'])\n"
   ]
  },
  {
   "cell_type": "code",
   "execution_count": null,
   "id": "39",
   "metadata": {},
   "outputs": [],
   "source": []
  }
 ],
 "metadata": {
  "kernelspec": {
   "display_name": "Python 3 (ipykernel)",
   "language": "python",
   "name": "python3"
  },
  "language_info": {
   "codemirror_mode": {
    "name": "ipython",
    "version": 3
   },
   "file_extension": ".py",
   "mimetype": "text/x-python",
   "name": "python",
   "nbconvert_exporter": "python",
   "pygments_lexer": "ipython3",
   "version": "3.12.7"
  }
 },
 "nbformat": 4,
 "nbformat_minor": 5
}
