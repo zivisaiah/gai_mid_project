{
 "cells": [
  {
   "cell_type": "code",
   "execution_count": null,
   "id": "0",
   "metadata": {},
   "outputs": [],
   "source": [
    "!pip install scikit-learn\n",
    "!pip install graphviz"
   ]
  },
  {
   "cell_type": "code",
   "execution_count": null,
   "id": "1",
   "metadata": {},
   "outputs": [],
   "source": [
    "import numpy as np\n",
    "import pandas as pd\n",
    "import matplotlib.pyplot as plt\n",
    "import seaborn as sns\n",
    "import scipy\n",
    "from scipy.stats import wilcoxon\n",
    "from scipy import stats\n",
    "from sklearn.model_selection import train_test_split"
   ]
  },
  {
   "cell_type": "markdown",
   "id": "2",
   "metadata": {},
   "source": [
    "EDA"
   ]
  },
  {
   "cell_type": "code",
   "execution_count": null,
   "id": "3",
   "metadata": {},
   "outputs": [],
   "source": [
    "df=pd.read_csv('churn.csv')\n",
    "df.info()"
   ]
  },
  {
   "cell_type": "code",
   "execution_count": null,
   "id": "5",
   "metadata": {},
   "outputs": [],
   "source": [
    "print('Number of rows:',df.shape[0]) \n",
    "print('Number of columns:',df.shape[1]) "
   ]
  },
  {
   "cell_type": "code",
   "execution_count": null,
   "id": "6",
   "metadata": {},
   "outputs": [],
   "source": [
    "df.isnull().sum()"
   ]
  },
  {
   "cell_type": "code",
   "execution_count": null,
   "id": "7",
   "metadata": {},
   "outputs": [],
   "source": [
    "print(f\"The amount of duplicated numbers are {df.duplicated().sum()}\")"
   ]
  },
  {
   "cell_type": "code",
   "execution_count": null,
   "id": "8",
   "metadata": {},
   "outputs": [],
   "source": [
    "df.head()"
   ]
  },
  {
   "cell_type": "code",
   "execution_count": null,
   "id": "46b69a54",
   "metadata": {},
   "outputs": [],
   "source": [
    "# הפכיה לערכים מספריים על מנת להציג את הנתונים\n",
    "df['TotalCharges'] = df['TotalCharges'].str.strip() \n",
    "df['TotalCharges'] = pd.to_numeric(df['TotalCharges'], errors='coerce')\n",
    "df.isnull().sum()\n"
   ]
  },
  {
   "cell_type": "code",
   "execution_count": null,
   "id": "e7ba19ad",
   "metadata": {},
   "outputs": [],
   "source": [
    "# הצגת השורות הבעייתיות\n",
    "problem_rows = df[df['TotalCharges'].isna()]\n",
    "\n",
    "problem_rows = problem_rows[['customerID', 'TotalCharges']]\n",
    "\n",
    "print(problem_rows['customerID'].count(),problem_rows)"
   ]
  },
  {
   "cell_type": "code",
   "execution_count": null,
   "id": "f4afaba5",
   "metadata": {},
   "outputs": [],
   "source": [
    "df = df.dropna(subset=['TotalCharges'])"
   ]
  },
  {
   "cell_type": "code",
   "execution_count": null,
   "id": "caf4c167",
   "metadata": {},
   "outputs": [],
   "source": [
    "df.isnull().sum()"
   ]
  },
  {
   "cell_type": "code",
   "execution_count": null,
   "id": "9",
   "metadata": {},
   "outputs": [],
   "source": [
    "df['Churn'].value_counts().plot(kind='pie', autopct='%1.1f%%', colors=['skyblue', 'lightcoral'])\n",
    "plt.title('Churn distribution')\n",
    "plt.ylabel('') \n",
    "plt.show()\n"
   ]
  },
  {
   "cell_type": "code",
   "execution_count": null,
   "id": "10",
   "metadata": {},
   "outputs": [],
   "source": [
    "#3. התפלגות משתנה עזיבה  (לפני חלוקה):\n",
    "sns.countplot(x='Churn', data=df, palette='Set2')\n",
    "plt.title('Churn Distribution')\n",
    "plt.grid(axis='y', linestyle='--')\n",
    "plt.show()\n",
    "\n"
   ]
  },
  {
   "cell_type": "code",
   "execution_count": null,
   "id": "11",
   "metadata": {},
   "outputs": [],
   "source": [
    "df[['tenure']].describe()"
   ]
  },
  {
   "cell_type": "code",
   "execution_count": null,
   "id": "12",
   "metadata": {},
   "outputs": [],
   "source": [
    "#פירוט 1\n",
    "fig, axes = plt.subplots(1, 2, figsize=(12, 5))\n",
    "\n",
    "# גרף 1 התפלגות TotalCharges\n",
    "axes[0].hist(df['TotalCharges'], bins=20, color='skyblue', edgecolor='black')\n",
    "axes[0].set_title('Distribution of TotalCharges')\n",
    "axes[0].set_xlabel('TotalCharges')\n",
    "axes[0].set_ylabel('Frequency')\n",
    "\n",
    "# גרף 2 התפלגות Tenure\n",
    "axes[1].hist(df['tenure'], bins=20, color='skyblue', edgecolor='black')\n",
    "axes[1].set_title('Distribution of Tenure')\n",
    "axes[1].set_xlabel('Tenure')\n",
    "axes[1].set_ylabel('Frequency')\n",
    "\n",
    "plt.show()\n",
    "\n"
   ]
  },
  {
   "cell_type": "code",
   "execution_count": null,
   "id": "13",
   "metadata": {},
   "outputs": [],
   "source": [
    "fig, axes = plt.subplots(2, 2, figsize=(8, 8))\n",
    "\n",
    "# פילוח לפי מגדר\n",
    "gender_counts = df['gender'].value_counts()\n",
    "axes[0, 0].pie(gender_counts, labels=[\"man\", \"woman\"], autopct='%1.1f%%', colors=['skyblue', 'lightcoral'])\n",
    "axes[0, 0].set_title('Segmentation by gender')\n",
    "\n",
    "# פילוח לפי בן/בת זוג\n",
    "partner_counts = df['Partner'].value_counts()\n",
    "axes[0, 1].pie(partner_counts, labels=['Without a spouse', 'With a partner'], autopct='%1.1f%%', colors=['lightgreen', 'lightpink'])\n",
    "axes[0, 1].set_title('Segmentation by spouse')\n",
    "\n",
    "# פילוח לפי תלויים\n",
    "dependents_counts = df['Dependents'].value_counts()\n",
    "axes[1, 0].pie(dependents_counts, labels=['Without dependents', 'With dependents'], autopct='%1.1f%%', colors=['lightgrey', 'lightyellow'])\n",
    "axes[1, 0].set_title('Segmentation by dependents')\n",
    "\n",
    "# פילוח לפי עזיבה\n",
    "churn_counts = df['Churn'].value_counts()\n",
    "axes[1, 1].pie(churn_counts, labels=['Didn\\'t leave', 'Leave'], autopct='%1.1f%%', colors=['lightblue', 'salmon'])\n",
    "axes[1, 1].set_title('Segmentation by departure')\n",
    "\n",
    "\n",
    "plt.show()\n"
   ]
  },
  {
   "cell_type": "code",
   "execution_count": null,
   "id": "14",
   "metadata": {},
   "outputs": [],
   "source": [
    "fig, axes = plt.subplots(1, 2, figsize=(12, 5))\n",
    "\n",
    "# גרף 1 Boxplot ל-TotalCharges\n",
    "df.boxplot(column='TotalCharges', ax=axes[0])\n",
    "axes[0].set_title('Boxplot of Total Charges')\n",
    "axes[0].set_ylabel('Total Charges')\n",
    "\n",
    "# גרף 2 Boxplot ל-Tenure\n",
    "df.boxplot(column='tenure', ax=axes[1])\n",
    "axes[1].set_title('Boxplot of Tenure')\n",
    "axes[1].set_ylabel('Tenure')\n",
    "\n",
    "plt.show()\n",
    "\n"
   ]
  },
  {
   "cell_type": "code",
   "execution_count": null,
   "id": "15",
   "metadata": {},
   "outputs": [],
   "source": [
    "#  גרף התפלגות עמודה מספרית (MonthlyCharges)\n",
    "\n",
    "\n",
    "plt.figure(figsize=(12, 6))\n",
    "sns.histplot(df['MonthlyCharges'], bins=30, kde=True)\n",
    "plt.title('Monthly distribution')\n",
    "plt.xlabel('Monthly Charges')\n",
    "plt.grid(axis='y', linestyle='--')\n",
    "plt.show()\n",
    "\n",
    "#  גרף פילוח לפי Contract ו-Churn\n",
    "plt.figure(figsize=(12, 6))\n",
    "sns.countplot(x='Contract', hue='Churn', data=df)\n",
    "plt.title('Contract Type vs. Churn')\n",
    "plt.grid(axis='y', linestyle='--')\n",
    "plt.show()\n"
   ]
  },
  {
   "cell_type": "code",
   "execution_count": null,
   "id": "17",
   "metadata": {},
   "outputs": [],
   "source": [
    "df.loc[df.Churn == 'No','Churn'] =0\n",
    "df.loc[df.Churn == 'Yes','Churn'] =1\n",
    "\n",
    "df.loc[df.gender == 'Male','gender']=0\n",
    "df.loc[df.gender == 'Female','gender']=1\n",
    "\n",
    "df.loc[df.Partner == 'No','Partner']=0\n",
    "df.loc[df.Partner == 'Yes','Partner']=1\n",
    "\n",
    "df.loc[df.Dependents == 'No','Dependents']=0\n",
    "df.loc[df.Dependents == 'Yes','Dependents']=1\n",
    "\n",
    "df.loc[df.PhoneService == 'No','PhoneService'] =0\n",
    "df.loc[df.PhoneService == 'Yes','PhoneService'] =1\n",
    "\n",
    "df.loc[df.MultipleLines == 'No','MultipleLines'] =0\n",
    "df.loc[df.MultipleLines == 'Yes','MultipleLines'] =1\n",
    "df.loc[df.MultipleLines == 'No phone service','MultipleLines'] =2\n",
    "\n",
    "df.loc[df.InternetService == 'DSL','InternetService'] =0\n",
    "df.loc[df.InternetService == 'Fiber optic','InternetService'] =1\n",
    "df.loc[df.InternetService == 'No','InternetService'] =2\n",
    "\n",
    "df.loc[df.OnlineSecurity == 'No','OnlineSecurity'] =0\n",
    "df.loc[df.OnlineSecurity == 'Yes','OnlineSecurity'] =1\n",
    "df.loc[df.OnlineSecurity == 'No internet service','OnlineSecurity'] =2\n",
    "\n",
    "df.loc[df.OnlineBackup == 'No','OnlineBackup'] =0\n",
    "df.loc[df.OnlineBackup == 'Yes','OnlineBackup'] =1\n",
    "df.loc[df.OnlineBackup == 'No internet service','OnlineBackup'] =2\n",
    "\n",
    "df.loc[df.DeviceProtection == 'No','DeviceProtection'] =0\n",
    "df.loc[df.DeviceProtection == 'Yes','DeviceProtection'] =1\n",
    "df.loc[df.DeviceProtection == 'No internet service','DeviceProtection'] =2\n",
    "\n",
    "df.loc[df.TechSupport == 'No','TechSupport'] =0\n",
    "df.loc[df.TechSupport == 'Yes','TechSupport'] =1\n",
    "df.loc[df.TechSupport == 'No internet service','TechSupport'] =2\n",
    "\n",
    "df.loc[df.StreamingTV == 'No','StreamingTV'] =0\n",
    "df.loc[df.StreamingTV == 'Yes','StreamingTV'] =1\n",
    "df.loc[df.StreamingTV == 'No internet service','StreamingTV'] =2\n",
    "\n",
    "df.loc[df.StreamingMovies == 'No','StreamingMovies'] =0\n",
    "df.loc[df.StreamingMovies == 'Yes','StreamingMovies'] =1\n",
    "df.loc[df.StreamingMovies == 'No internet service','StreamingMovies'] =2\n",
    "\n",
    "df.loc[df.Contract == 'Month-to-month','Contract'] =0\n",
    "df.loc[df.Contract == 'One year','Contract'] =1\n",
    "df.loc[df.Contract == 'Two year','Contract'] =2\n",
    "\n",
    "df.loc[df.PaperlessBilling == 'No','PaperlessBilling'] =0\n",
    "df.loc[df.PaperlessBilling == 'Yes','PaperlessBilling'] =1\n",
    "\n",
    "df.loc[df.PaymentMethod == 'Electronic check','PaymentMethod'] =0\n",
    "df.loc[df.PaymentMethod == 'Mailed check','PaymentMethod'] =1\n",
    "df.loc[df.PaymentMethod == 'Bank transfer (automatic)','PaymentMethod'] =2\n",
    "df.loc[df.PaymentMethod == 'Credit card (automatic)','PaymentMethod'] =3\n",
    "\n",
    "\n",
    "\n",
    "df = df.astype({'Churn': 'int64'})\n",
    "df = df.astype({'gender': 'int64'})\n",
    "df = df.astype({'Partner': 'int64'})\n",
    "df = df.astype({'Dependents': 'int64'})\n",
    "df = df.astype({'PhoneService': 'int64'})\n",
    "df = df.astype({'MultipleLines': 'int64'})\n",
    "df = df.astype({'InternetService': 'int64'})\n",
    "df = df.astype({'OnlineSecurity': 'int64'})\n",
    "df = df.astype({'OnlineBackup': 'int64'})\n",
    "df = df.astype({'DeviceProtection': 'int64'})\n",
    "df = df.astype({'TechSupport': 'int64'})\n",
    "df = df.astype({'StreamingTV': 'int64'})\n",
    "df = df.astype({'StreamingMovies': 'int64'})\n",
    "df = df.astype({'Contract': 'int64'})\n",
    "df = df.astype({'PaperlessBilling': 'int64'})\n",
    "df = df.astype({'PaymentMethod': 'int64'})\n",
    "\n",
    "\n",
    "\n",
    "\n",
    "\n",
    "\n",
    "df.info()"
   ]
  },
  {
   "cell_type": "code",
   "execution_count": null,
   "id": "18",
   "metadata": {},
   "outputs": [],
   "source": []
  },
  {
   "cell_type": "code",
   "execution_count": null,
   "id": "19",
   "metadata": {},
   "outputs": [],
   "source": [
    "df.isnull().sum()"
   ]
  },
  {
   "cell_type": "code",
   "execution_count": null,
   "id": "20",
   "metadata": {},
   "outputs": [],
   "source": []
  },
  {
   "cell_type": "code",
   "execution_count": null,
   "id": "23",
   "metadata": {},
   "outputs": [],
   "source": [
    "#פירוט 3\n",
    "\n",
    "# סט 1 חלוקה רחבה\n",
    "def categorize_tenure_set1(tenure):\n",
    "    if tenure <= 12:\n",
    "        return '0-12'\n",
    "    elif 13 <= tenure <= 36:\n",
    "        return '13-36'\n",
    "    elif 37 <= tenure <= 60:\n",
    "        return '37-60'\n",
    "    else:\n",
    "        return '60+'\n",
    "\n",
    "# סט 2 (6 חודשים)\n",
    "def categorize_tenure_set2(tenure):\n",
    "    if tenure <= 6:\n",
    "        return '0-6'\n",
    "    elif 7 <= tenure <= 12:\n",
    "        return '7-12'\n",
    "    elif 13 <= tenure <= 18:\n",
    "        return '13-18'\n",
    "    elif 19 <= tenure <= 24:\n",
    "        return '19-24'\n",
    "    elif 25 <= tenure <= 30:\n",
    "        return '25-30'\n",
    "    elif 31 <= tenure <= 36:\n",
    "        return '31-36'\n",
    "    elif 37 <= tenure <= 42:\n",
    "        return '37-42'\n",
    "    elif 43 <= tenure <= 48:\n",
    "        return '43-48'\n",
    "    elif 49 <= tenure <= 54:\n",
    "        return '49-54'\n",
    "    elif 55 <= tenure <= 60:\n",
    "        return '55-60'\n",
    "    else:\n",
    "        return '60+'\n",
    "\n",
    "# סט 3 (10 חודשים)\n",
    "def categorize_tenure_set3(tenure):\n",
    "    if tenure <= 10:\n",
    "        return '0-10'\n",
    "    elif 11 <= tenure <= 20:\n",
    "        return '11-20'\n",
    "    elif 21 <= tenure <= 30:\n",
    "        return '21-30'\n",
    "    elif 31 <= tenure <= 40:\n",
    "        return '31-40'\n",
    "    elif 41 <= tenure <= 50:\n",
    "        return '41-50'\n",
    "    elif 51 <= tenure <= 60:\n",
    "        return '51-60'\n",
    "    else:\n",
    "        return '60+'\n",
    "\n",
    "df['tenure_category_set1'] = df['tenure'].apply(categorize_tenure_set1)\n",
    "df['tenure_category_set2'] = df['tenure'].apply(categorize_tenure_set2)\n",
    "df['tenure_category_set3'] = df['tenure'].apply(categorize_tenure_set3)\n",
    "\n",
    "categories_set1 = ['0-12', '13-36', '37-60', '60+']\n",
    "categories_set2 = ['0-6', '7-12', '13-18', '19-24', '25-30', '31-36', '37-42', '43-48', '49-54', '55-60', '60+']\n",
    "categories_set3 = ['0-10', '11-20', '21-30', '31-40', '41-50', '51-60', '60+']\n"
   ]
  },
  {
   "cell_type": "code",
   "execution_count": null,
   "id": "24",
   "metadata": {},
   "outputs": [],
   "source": [
    "stats_set1 = df.groupby('tenure_category_set1')['MonthlyCharges'].agg(['mean', 'std'])\n",
    "stats_set2 = df.groupby('tenure_category_set2')['MonthlyCharges'].agg(['mean', 'std'])\n",
    "stats_set3 = df.groupby('tenure_category_set3')['MonthlyCharges'].agg(['mean', 'std'])\n",
    "\n",
    "avg_std_set1 = stats_set1['std'].mean()\n",
    "avg_std_set2 = stats_set2['std'].mean()\n",
    "avg_std_set3 = stats_set3['std'].mean()\n"
   ]
  },
  {
   "cell_type": "code",
   "execution_count": null,
   "id": "25",
   "metadata": {},
   "outputs": [],
   "source": [
    "print(\"\\n       Set:1\\n\")                                    #האם נחוץ להציג תוצאות אלו  ??\n",
    "\n",
    "data_set1 = {\n",
    "    'category': categories_set1,\n",
    "    'mean': stats_set1['mean'],\n",
    "    'std': stats_set1['std']\n",
    "}\n",
    "df_set1 = pd.DataFrame(data_set1).round(2)\n",
    "df_set1.loc['mean'] = ['mean', df_set1['mean'].mean().round(2), avg_std_set1.round(2)]\n",
    "print(df_set1.to_string(index=False))\n",
    "\n",
    "print(\"\\n       Set:2\\n\")\n",
    "data_set2 = {\n",
    "    'category': categories_set2,\n",
    "    'mean': stats_set2['mean'],\n",
    "    'std': stats_set2['std']\n",
    "}\n",
    "df_set2 = pd.DataFrame(data_set2).round(2)\n",
    "df_set2.loc['mean'] = ['mean', df_set2['mean'].mean().round(2), avg_std_set2.round(2)]\n",
    "print(df_set2.to_string(index=False))\n",
    "\n",
    "print(\"\\n       Set:3\\n\")\n",
    "data_set3 = {\n",
    "    'category': categories_set3,\n",
    "    'mean': stats_set3['mean'],\n",
    "    'std': stats_set3['std']\n",
    "}\n",
    "df_set3 = pd.DataFrame(data_set3).round(2)\n",
    "df_set3.loc['mean'] = ['mean', df_set3['mean'].mean().round(2), avg_std_set3.round(2)]\n",
    "print(df_set3.to_string(index=False))\n",
    "\n"
   ]
  },
  {
   "cell_type": "code",
   "execution_count": null,
   "id": "26",
   "metadata": {},
   "outputs": [],
   "source": [
    "df.loc[df.tenure_category_set1 == '0-12','tenure_category_set1']=0\n",
    "df.loc[df.tenure_category_set1 == '13-36','tenure_category_set1']=1\n",
    "df.loc[df.tenure_category_set1 == '37-60','tenure_category_set1']=2\n",
    "df.loc[df.tenure_category_set1 == '60+','tenure_category_set1']=3\n",
    "\n",
    "df.loc[df.tenure_category_set2 == '0-6','tenure_category_set2']=0\n",
    "df.loc[df.tenure_category_set2 == '7-12','tenure_category_set2']=1\n",
    "df.loc[df.tenure_category_set2 == '13-18','tenure_category_set2']=2\n",
    "df.loc[df.tenure_category_set2 == '19-24','tenure_category_set2']=3\n",
    "df.loc[df.tenure_category_set2 == '25-30','tenure_category_set2']=4\n",
    "df.loc[df.tenure_category_set2 == '31-36','tenure_category_set2']=5\n",
    "df.loc[df.tenure_category_set2 == '37-42','tenure_category_set2']=6\n",
    "df.loc[df.tenure_category_set2 == '43-48','tenure_category_set2']=7\n",
    "df.loc[df.tenure_category_set2 == '49-54','tenure_category_set2']=8\n",
    "df.loc[df.tenure_category_set2 == '55-60','tenure_category_set2']=9\n",
    "df.loc[df.tenure_category_set2 == '60+','tenure_category_set2']=10\n",
    "\n",
    "df.loc[df.tenure_category_set3 == '0-10','tenure_category_set3']=0\n",
    "df.loc[df.tenure_category_set3 == '11-20','tenure_category_set3']=1\n",
    "df.loc[df.tenure_category_set3 == '21-30','tenure_category_set3']=2\n",
    "df.loc[df.tenure_category_set3 == '31-40','tenure_category_set3']=3\n",
    "df.loc[df.tenure_category_set3 == '41-50','tenure_category_set3']=4\n",
    "df.loc[df.tenure_category_set3 == '51-60','tenure_category_set3']=5\n",
    "df.loc[df.tenure_category_set3 == '60+','tenure_category_set3']=6\n",
    "\n",
    "\n",
    "df = df.astype({'tenure_category_set1': 'int64'})\n",
    "df = df.astype({'tenure_category_set2': 'int64'})\n",
    "df = df.astype({'tenure_category_set3': 'int64'})\n"
   ]
  },
  {
   "cell_type": "code",
   "execution_count": null,
   "id": "27",
   "metadata": {},
   "outputs": [],
   "source": [
    "####פירוט 4"
   ]
  },
  {
   "cell_type": "code",
   "execution_count": null,
   "id": "28",
   "metadata": {},
   "outputs": [],
   "source": [
    "#קבוצה 1 שפירו\n",
    "\n",
    "# בדיקת נורמליות (Shapiro-Wilk) ל- MonthlyCharges לפי tenure_category_set1\n",
    "shapiro_set1_0 = stats.shapiro(df[df['tenure_category_set1'] == 0]['MonthlyCharges'])\n",
    "shapiro_set1_1 = stats.shapiro(df[df['tenure_category_set1'] == 1]['MonthlyCharges'])\n",
    "shapiro_set1_2 = stats.shapiro(df[df['tenure_category_set1'] == 2]['MonthlyCharges'])\n",
    "shapiro_set1_3 = stats.shapiro(df[df['tenure_category_set1'] == 3]['MonthlyCharges'])\n",
    "\n",
    "print(\"Shapiro-Wilk test results for Monthly Charges by tenure category set1\")\n",
    "print(f\"Group 0-12 months: Statistical={shapiro_set1_0.statistic}, p-value={shapiro_set1_0.pvalue}\")\n",
    "print(f\"Group 13-36 months: Statistical={shapiro_set1_1.statistic}, p-value={shapiro_set1_1.pvalue}\")\n",
    "print(f\"Group 37-60 months: Statistical={shapiro_set1_2.statistic}, p-value={shapiro_set1_2.pvalue}\")\n",
    "print(f\"Group 60+ months: Statistical={shapiro_set1_3.statistic}, p-value={shapiro_set1_3.pvalue}\")\n",
    "\n",
    "#לא מתפלג נורמאלי "
   ]
  },
  {
   "cell_type": "code",
   "execution_count": null,
   "id": "29",
   "metadata": {},
   "outputs": [],
   "source": [
    "#קבוצה 2 שפירו\n",
    "\n",
    "# בדיקת נורמליות (Shapiro-Wilk) ל- MonthlyCharges לפי tenure_category_set2 \n",
    "group_2_0 = df[df['tenure_category_set2'] == 0]['MonthlyCharges']\n",
    "group_2_1 = df[df['tenure_category_set2'] == 1]['MonthlyCharges']\n",
    "group_2_2 = df[df['tenure_category_set2'] == 2]['MonthlyCharges']\n",
    "group_2_3 = df[df['tenure_category_set2'] == 3]['MonthlyCharges']\n",
    "group_2_4 = df[df['tenure_category_set2'] == 4]['MonthlyCharges']\n",
    "group_2_5 = df[df['tenure_category_set2'] == 5]['MonthlyCharges']\n",
    "group_2_6 = df[df['tenure_category_set2'] == 6]['MonthlyCharges']\n",
    "group_2_7 = df[df['tenure_category_set2'] == 7]['MonthlyCharges']\n",
    "group_2_8 = df[df['tenure_category_set2'] == 8]['MonthlyCharges']\n",
    "group_2_9 = df[df['tenure_category_set2'] == 9]['MonthlyCharges']\n",
    "group_2_10 = df[df['tenure_category_set2'] == 10]['MonthlyCharges']\n",
    "\n",
    "#  Shapiro-Wilk על כל קבוצה בנפרד\n",
    "shapiro_2_0 = stats.shapiro(group_2_0)\n",
    "shapiro_2_1 = stats.shapiro(group_2_1)\n",
    "shapiro_2_2 = stats.shapiro(group_2_2)\n",
    "shapiro_2_3 = stats.shapiro(group_2_3)\n",
    "shapiro_2_4 = stats.shapiro(group_2_4)\n",
    "shapiro_2_5 = stats.shapiro(group_2_5)\n",
    "shapiro_2_6 = stats.shapiro(group_2_6)\n",
    "shapiro_2_7 = stats.shapiro(group_2_7)\n",
    "shapiro_2_8 = stats.shapiro(group_2_8)\n",
    "shapiro_2_9 = stats.shapiro(group_2_9)\n",
    "shapiro_2_10 = stats.shapiro(group_2_10)\n",
    "\n",
    "print(\"Shapiro-Wilk test results for Monthly Charges by tenure category set2\")\n",
    "print(f\"Group 0-6: Statistical={shapiro_2_0.statistic}, p-value={shapiro_2_0.pvalue}\")\n",
    "print(f\"Group 7-12: Statistical={shapiro_2_1.statistic}, p-value={shapiro_2_1.pvalue}\")\n",
    "print(f\"Group 13-18: Statistical={shapiro_2_2.statistic}, p-value={shapiro_2_2.pvalue}\")\n",
    "print(f\"Group 19-24: Statistical={shapiro_2_3.statistic}, p-value={shapiro_2_3.pvalue}\")\n",
    "print(f\"Group 25-30: Statistical={shapiro_2_4.statistic}, p-value={shapiro_2_4.pvalue}\")\n",
    "print(f\"Group 31-36: Statistical={shapiro_2_5.statistic}, p-value={shapiro_2_5.pvalue}\")\n",
    "print(f\"Group 37-42: Statistical={shapiro_2_6.statistic}, p-value={shapiro_2_6.pvalue}\")\n",
    "print(f\"Group 43-48: Statistical={shapiro_2_7.statistic}, p-value={shapiro_2_7.pvalue}\")\n",
    "print(f\"Group 49-54: Statistical={shapiro_2_8.statistic}, p-value={shapiro_2_8.pvalue}\")\n",
    "print(f\"Group 55-60: Statistical={shapiro_2_9.statistic}, p-value={shapiro_2_9.pvalue}\")\n",
    "print(f\"Group 60+: Statistical={shapiro_2_10.statistic}, p-value={shapiro_2_10.pvalue}\")\n",
    "\n",
    "#לא מתפלג נורמאלי "
   ]
  },
  {
   "cell_type": "code",
   "execution_count": null,
   "id": "30",
   "metadata": {},
   "outputs": [],
   "source": [
    "#קבוצה 3 שפירו\n",
    "\n",
    "group_3_0 = df[df['tenure_category_set3'] == 0]['MonthlyCharges']\n",
    "group_3_1 = df[df['tenure_category_set3'] == 1]['MonthlyCharges']\n",
    "group_3_2 = df[df['tenure_category_set3'] == 2]['MonthlyCharges']\n",
    "group_3_3 = df[df['tenure_category_set3'] == 3]['MonthlyCharges']\n",
    "group_3_4 = df[df['tenure_category_set3'] == 4]['MonthlyCharges']\n",
    "group_3_5 = df[df['tenure_category_set3'] == 5]['MonthlyCharges']\n",
    "group_3_6 = df[df['tenure_category_set3'] == 6]['MonthlyCharges']\n",
    "\n",
    "#  Shapiro-Wilk על כל קבוצה בנפרד\n",
    "shapiro_3_0 = stats.shapiro(group_3_0)\n",
    "shapiro_3_1 = stats.shapiro(group_3_1)\n",
    "shapiro_3_2 = stats.shapiro(group_3_2)\n",
    "shapiro_3_3 = stats.shapiro(group_3_3)\n",
    "shapiro_3_4 = stats.shapiro(group_3_4)\n",
    "shapiro_3_5 = stats.shapiro(group_3_5)\n",
    "shapiro_3_6 = stats.shapiro(group_3_6)\n",
    "\n",
    "print(\"Shapiro-Wilk test results for Monthly Charges by tenure category set3\")\n",
    "print(f\"Group 0-10: Statistical={shapiro_3_0.statistic}, p-value={shapiro_3_0.pvalue}\")\n",
    "print(f\"Group 11-20: Statistical={shapiro_3_1.statistic}, p-value={shapiro_3_1.pvalue}\")\n",
    "print(f\"Group 21-30: Statistical={shapiro_3_2.statistic}, p-value={shapiro_3_2.pvalue}\")\n",
    "print(f\"Group 31-40: Statistical={shapiro_3_4.statistic}, p-value={shapiro_3_4.pvalue}\")\n",
    "print(f\"Group 41-50: Statistical={shapiro_3_4.statistic}, p-value={shapiro_3_4.pvalue}\")\n",
    "print(f\"Group 41-50: Statistical={shapiro_3_5.statistic}, p-value={shapiro_3_5.pvalue}\")\n",
    "print(f\"Group 60+: Statistical={shapiro_3_6.statistic}, p-value={shapiro_3_6.pvalue}\")\n",
    "\n",
    "#לא מתפלג נורמאלי "
   ]
  },
  {
   "cell_type": "code",
   "execution_count": null,
   "id": "31",
   "metadata": {},
   "outputs": [],
   "source": []
  },
  {
   "cell_type": "code",
   "execution_count": null,
   "id": "32",
   "metadata": {},
   "outputs": [],
   "source": [
    "# פירוט 5"
   ]
  },
  {
   "cell_type": "code",
   "execution_count": null,
   "id": "33",
   "metadata": {},
   "outputs": [],
   "source": [
    "\n",
    "# Levene  בדיקת שונות בין הקבוצות בסט 1 \n",
    "group_1_0 = df[df['tenure_category_set1'] == 0]['MonthlyCharges']\n",
    "group_1_1 = df[df['tenure_category_set1'] == 1]['MonthlyCharges']\n",
    "group_1_2 = df[df['tenure_category_set1'] == 2]['MonthlyCharges']\n",
    "group_1_3 = df[df['tenure_category_set1'] == 3]['MonthlyCharges']\n",
    "\n",
    "levene_result_set1 = stats.levene(group_1_0, group_1_1, group_1_2, group_1_3)\n",
    "\n",
    "# Levene  בדיקת שונות בין הקבוצות בסט 2 \n",
    "group_2_0 = df[df['tenure_category_set2'] == 0]['MonthlyCharges']\n",
    "group_2_1 = df[df['tenure_category_set2'] == 1]['MonthlyCharges']\n",
    "group_2_2 = df[df['tenure_category_set2'] == 2]['MonthlyCharges']\n",
    "group_2_3 = df[df['tenure_category_set2'] == 3]['MonthlyCharges']\n",
    "levene_result_set2 = stats.levene(group_2_0, group_2_1, group_2_2, group_2_3)\n",
    "\n",
    "# Levene  בדיקת שונות בין הקבוצות בסט 3 \n",
    "group_3_0 = df[df['tenure_category_set3'] == 0]['MonthlyCharges']\n",
    "group_3_1 = df[df['tenure_category_set3'] == 1]['MonthlyCharges']\n",
    "group_3_2 = df[df['tenure_category_set3'] == 2]['MonthlyCharges']\n",
    "group_3_3 = df[df['tenure_category_set3'] == 3]['MonthlyCharges']\n",
    "levene_result_set3 = stats.levene(group_3_0, group_3_1, group_3_2, group_3_3)\n",
    "\n",
    "print(\"Lenvene Test Results: Set 1\")\n",
    "print(f\"statistical={levene_result_set1.statistic}, p-value={levene_result_set1.pvalue}\")\n",
    "\n",
    "print(\"Lenvene Test Results: Set 2\")\n",
    "print(f\"statistical={levene_result_set2.statistic}, p-value={levene_result_set2.pvalue}\")\n",
    "\n",
    "print(\"Lenvene Test Results: Set 3\")\n",
    "print(f\"statistical={levene_result_set3.statistic}, p-value={levene_result_set3.pvalue}\")\n",
    "\n",
    "#בכול הסטים ה P קטן מ 0.05  ולכן דוחים השערת האפס ויש שונות בן הקבוצות בתוך הסטים\n",
    "#דוחים את השערת האפס  יש הבדל מובהק בשונויות בתוך הקבוצות.\n"
   ]
  },
  {
   "cell_type": "code",
   "execution_count": null,
   "id": "34",
   "metadata": {},
   "outputs": [],
   "source": [
    "#באופן שרירותי נבחר סט 2"
   ]
  },
  {
   "cell_type": "code",
   "execution_count": null,
   "id": "35",
   "metadata": {},
   "outputs": [],
   "source": [
    "#גרף 1.1"
   ]
  },
  {
   "cell_type": "code",
   "execution_count": null,
   "id": "36",
   "metadata": {},
   "outputs": [],
   "source": [
    "#4. התפלגות לפי סט 2 (אחרי חלוקה):\n",
    "sns.countplot(x='tenure_category_set2', data=df, palette='Set3')\n",
    "plt.title('Distribution by length of service groups (Set 2)')\n",
    "plt.xlabel('tenure category set2')\n",
    "plt.grid(axis='y', linestyle='--')\n",
    "plt.show()\n"
   ]
  },
  {
   "cell_type": "code",
   "execution_count": null,
   "id": "37",
   "metadata": {},
   "outputs": [],
   "source": [
    "#גרף 3"
   ]
  },
  {
   "cell_type": "code",
   "execution_count": null,
   "id": "38",
   "metadata": {},
   "outputs": [],
   "source": [
    "#6. מאפיינים אישיים לפי סט 2"
   ]
  },
  {
   "cell_type": "code",
   "execution_count": null,
   "id": "39",
   "metadata": {},
   "outputs": [],
   "source": [
    "sns.countplot(x='tenure_category_set2', hue='gender', data=df, palette='coolwarm')\n",
    "plt.title('Gender segmentation by length of service groups (Set 2)')\n",
    "plt.xlabel('tenure category set2')\n",
    "plt.legend(title='gender', labels=['man', 'woman'])\n",
    "plt.grid(axis='y', linestyle='--')\n",
    "plt.show()\n"
   ]
  },
  {
   "cell_type": "code",
   "execution_count": null,
   "id": "40",
   "metadata": {},
   "outputs": [],
   "source": [
    "#גרף 4"
   ]
  },
  {
   "cell_type": "code",
   "execution_count": null,
   "id": "41",
   "metadata": {},
   "outputs": [],
   "source": [
    "#לזהות חריגות והתפלגות התשלומים החודשיים לפי הקבוצות"
   ]
  },
  {
   "cell_type": "code",
   "execution_count": null,
   "id": "42",
   "metadata": {},
   "outputs": [],
   "source": [
    "\n",
    "plt.figure(figsize=(10, 6))\n",
    "sns.boxplot(x='tenure_category_set2', y='MonthlyCharges', data=df, palette='Set3')\n",
    "plt.title('Distribution of monthly payments by tenure_category_set2')\n",
    "plt.xlabel('Tenure category set2')\n",
    "plt.ylabel('Monthly Charges')\n",
    "plt.grid(axis='y', linestyle='--', alpha=0.7)\n",
    "\n",
    "plt.show()\n"
   ]
  },
  {
   "cell_type": "code",
   "execution_count": null,
   "id": "43",
   "metadata": {},
   "outputs": [],
   "source": []
  },
  {
   "cell_type": "code",
   "execution_count": null,
   "id": "44",
   "metadata": {},
   "outputs": [],
   "source": [
    "#גרף 5"
   ]
  },
  {
   "cell_type": "code",
   "execution_count": null,
   "id": "45",
   "metadata": {},
   "outputs": [],
   "source": [
    "\n",
    "plt.figure(figsize=(12, 6))\n",
    "sns.boxplot(data=df, x='tenure_category_set2', y='MonthlyCharges', hue='gender', palette='cool')\n",
    "plt.title('Difference in monthly payment between men and women by length of service groups')\n",
    "plt.xlabel('tenure category set2')\n",
    "plt.ylabel('Monthly Charges')\n",
    "plt.legend(title='gender', loc='upper right', labels=['man', 'woman'])\n",
    "plt.grid(axis='y', linestyle='--')\n",
    "plt.show()\n"
   ]
  },
  {
   "cell_type": "code",
   "execution_count": null,
   "id": "46",
   "metadata": {},
   "outputs": [],
   "source": []
  },
  {
   "cell_type": "code",
   "execution_count": null,
   "id": "47",
   "metadata": {},
   "outputs": [],
   "source": [
    "#להוסיף ולעדכן\n",
    "df = df.rename(columns=str.lower)\n",
    "df"
   ]
  },
  {
   "cell_type": "code",
   "execution_count": null,
   "id": "48",
   "metadata": {},
   "outputs": [],
   "source": [
    "# חישוב קורלציות אחרי המרה\n",
    "corr_matrix = df.corr(numeric_only=True)\n",
    "\n",
    "# יצירת heatmap לכלל הנתונים\n",
    "plt.figure(figsize=(12, 8))\n",
    "sns.heatmap(corr_matrix, annot=True, cmap='coolwarm', fmt=\".2f\", linewidths=0.5)\n",
    "plt.title(\"Correlation Matrix Heatmap\")\n",
    "plt.show()\n"
   ]
  },
  {
   "cell_type": "code",
   "execution_count": null,
   "id": "49",
   "metadata": {},
   "outputs": [],
   "source": [
    "corr_totalcharges = corr_matrix[['totalcharges']].sort_values(by='totalcharges', ascending=False)\n",
    "\n",
    "\n",
    "plt.figure(figsize=(6, 8))\n",
    "sns.heatmap(corr_totalcharges, annot=True, cmap='coolwarm', fmt=\".2f\", linewidths=0.5)\n",
    "plt.title(\"Correlation with Total Charges\")\n",
    "plt.show()\n"
   ]
  },
  {
   "cell_type": "code",
   "execution_count": null,
   "id": "50",
   "metadata": {},
   "outputs": [],
   "source": [
    "plt.figure(figsize=(8, 5))\n",
    "sns.scatterplot(x=df['tenure'], y=df['totalcharges'], alpha=0.5)\n",
    "plt.title(\"Total Charges vs Tenure\")\n",
    "plt.xlabel(\"Tenure\")\n",
    "plt.ylabel(\"Total Charges\")\n",
    "plt.grid()\n",
    "plt.show()\n",
    "\n",
    "\n",
    "#     נחוץ??\n",
    "plt.figure(figsize=(8, 5))\n",
    "sns.scatterplot(x=df['monthlycharges'], y=df['totalcharges'], alpha=0.5)\n",
    "plt.title(\"Total Charges vs Monthly Charges\")\n",
    "plt.xlabel(\"Monthly Charges\")\n",
    "plt.ylabel(\"Total Charges\")\n",
    "plt.grid()\n",
    "plt.show()\n"
   ]
  },
  {
   "cell_type": "code",
   "execution_count": null,
   "id": "51",
   "metadata": {},
   "outputs": [],
   "source": [
    "#ML\n",
    "df = df.drop(columns=['customerid'])\n",
    "df = df.drop(columns=['tenure_category_set1'])\n",
    "df = df.drop(columns=['tenure_category_set2'])\n",
    "df = df.drop(columns=['tenure_category_set3'])\n"
   ]
  },
  {
   "cell_type": "code",
   "execution_count": null,
   "id": "52",
   "metadata": {},
   "outputs": [],
   "source": []
  }
 ],
 "metadata": {
  "kernelspec": {
   "display_name": "Python 3 (ipykernel)",
   "language": "python",
   "name": "python3"
  },
  "language_info": {
   "codemirror_mode": {
    "name": "ipython",
    "version": 3
   },
   "file_extension": ".py",
   "mimetype": "text/x-python",
   "name": "python",
   "nbconvert_exporter": "python",
   "pygments_lexer": "ipython3",
   "version": "3.11.5"
  }
 },
 "nbformat": 4,
 "nbformat_minor": 5
}
